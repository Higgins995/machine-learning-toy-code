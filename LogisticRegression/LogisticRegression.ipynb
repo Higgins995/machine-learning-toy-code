{
 "metadata": {
  "language_info": {
   "codemirror_mode": {
    "name": "ipython",
    "version": 3
   },
   "file_extension": ".py",
   "mimetype": "text/x-python",
   "name": "python",
   "nbconvert_exporter": "python",
   "pygments_lexer": "ipython3",
   "version": "3.7.10"
  },
  "orig_nbformat": 4,
  "kernelspec": {
   "name": "python3",
   "display_name": "Python 3.7.10 64-bit ('py37': conda)"
  },
  "interpreter": {
   "hash": "fbea1422c2cf61ed9c0cfc03f38f71cc9083cc288606edc4170b5309b352ce27"
  }
 },
 "nbformat": 4,
 "nbformat_minor": 2,
 "cells": [
  {
   "cell_type": "markdown",
   "source": [
    "## 回归\n",
    "\n",
    "根据因变量的不同，分成几种回归：  \n",
    "* 连续：多重线性回归(注意与多元线性回归有区别，比如多元自变量是连续的，多重则可以是多种数据类型等)  \n",
    "* 二项分布：logistic回归\n",
    "* poisson分布：poisson回归\n",
    "* 负二项分布：负二项回归\n",
    "\n",
    "## 逻辑回归\n",
    "\n",
    "同线性回归一样，需要求出$n$个参数：\n",
    "\n",
    "$y=\\theta_0+\\theta_1x+\\theta_2x+...+\\theta_nx=\\theta^Tx$\n"
   ],
   "metadata": {}
  },
  {
   "cell_type": "code",
   "execution_count": 7,
   "source": [
    "import sys\n",
    "from pathlib import Path\n",
    "curr_path = str(Path().absolute())\n",
    "parent_path = str(Path().absolute().parent)\n",
    "sys.path.append(parent_path) # add current terminal path to sys.path\n",
    "\n",
    "import numpy as np\n",
    "from Mnist.load_data import load_local_mnist\n",
    "\n",
    "(x_train, y_train), (x_test, y_test) = load_local_mnist(one_hot=False)\n",
    "print(np.shape(x_train),np.shape(y_train))\n",
    "\n",
    "ones_col=[[1] for i in range(len(x_train))] # 生成全为1的二维嵌套列表，即[[1],[1],...,[1]]\n",
    "x_train_modified=np.append(x_train,ones_col,axis=1)\n",
    "ones_col=[[1] for i in range(len(x_test))] # 生成全为1的二维嵌套列表，即[[1],[1],...,[1]]\n",
    "x_test_modified=np.append(x_test,ones_col,axis=1)\n",
    "\n",
    "print(np.shape(x_train_modified))\n",
    "\n",
    "# nsit有0-9是个标记，由于是二分类任务，所以将标记0的作为1，其余为0\n",
    "y_train_modified=np.array([1 if y_train[i]==1 else 0 for i in range(len(y_train))])\n",
    "y_test_modified=np.array([1 if y_test[i]==1 else 0 for i in range(len(y_test))])\n",
    "n_iters=10 \n",
    "\n",
    "x_train_modified_mat = np.mat(x_train_modified)\n",
    "theta = np.mat(np.zeros(len(x_train_modified[0])))\n",
    "lr = 0.01\n",
    "def sigmoid(x):\n",
    "    '''sigmoid function\n",
    "    '''\n",
    "    return 1.0/(1+np.exp(-x))\n",
    "\n",
    "for i_iter in range(n_iters):\n",
    "    for n in range(len(x_train_modified)):\n",
    "        result = sigmoid(np.dot(x_train_modified_mat[n], theta.T))\n",
    "        error = y_train_modified[n]- result\n",
    "        grad = error*x_train_modified_mat[n]\n",
    "        theta += lr*grad\n",
    "    print('LogisticRegression Model(learning_rate={},i_iter={})'.format(\n",
    "    lr, i_iter+1))\n",
    "\n"
   ],
   "outputs": [
    {
     "output_type": "stream",
     "name": "stdout",
     "text": [
      "(60000, 784) (60000,)\n",
      "(60000, 785)\n",
      "LogisticRegression Model(learning_rate=0.01,i_iter=1)\n",
      "LogisticRegression Model(learning_rate=0.01,i_iter=2)\n",
      "LogisticRegression Model(learning_rate=0.01,i_iter=3)\n",
      "LogisticRegression Model(learning_rate=0.01,i_iter=4)\n",
      "LogisticRegression Model(learning_rate=0.01,i_iter=5)\n",
      "LogisticRegression Model(learning_rate=0.01,i_iter=6)\n",
      "LogisticRegression Model(learning_rate=0.01,i_iter=7)\n",
      "LogisticRegression Model(learning_rate=0.01,i_iter=8)\n",
      "LogisticRegression Model(learning_rate=0.01,i_iter=9)\n",
      "LogisticRegression Model(learning_rate=0.01,i_iter=10)\n"
     ]
    }
   ],
   "metadata": {}
  }
 ]
}