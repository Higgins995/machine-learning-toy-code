{
 "cells": [
  {
   "cell_type": "markdown",
   "source": [
    "### https://towardsdatascience.com/logistic-regression-using-python-sklearn-numpy-mnist-handwriting-recognition-matplotlib-a6b31e2b166a"
   ],
   "metadata": {}
  },
  {
   "cell_type": "code",
   "execution_count": null,
   "source": [
    "import sys\n",
    "from pathlib import Path\n",
    "curr_path = str(Path().absolute())\n",
    "parent_path = str(Path().absolute().parent)\n",
    "sys.path.append(parent_path) # add current terminal path to sys.path\n",
    "\n",
    "from Mnist.load_data import load_local_mnist\n",
    "\n",
    "from sklearn.linear_model import LogisticRegression\n",
    "\n",
    "(X_train, y_train), (X_test, y_test) = load_local_mnist(normalize = False,one_hot = False)\n",
    "model = LogisticRegression()\n",
    "model.fit(X_train, y_train)"
   ],
   "outputs": [],
   "metadata": {}
  }
 ],
 "metadata": {
  "orig_nbformat": 4,
  "language_info": {
   "name": "python",
   "version": "3.7.11"
  },
  "kernelspec": {
   "name": "python3",
   "display_name": "Python 3.7.11 64-bit ('py37': conda)"
  },
  "interpreter": {
   "hash": "42c9bd6a7bb2602a627a03adc5d7029ff8a60f7e68b58a1beb81d0b4574fea3d"
  }
 },
 "nbformat": 4,
 "nbformat_minor": 2
}