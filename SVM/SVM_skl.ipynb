{
 "cells": [
  {
   "cell_type": "code",
   "execution_count": 1,
   "source": [
    "import sys\n",
    "from pathlib import Path\n",
    "curr_path = str(Path().absolute()) # 当前文件所在绝对路径\n",
    "parent_path = str(Path().absolute().parent) # 父路径\n",
    "sys.path.append(parent_path) # 添加路径到系统路径\n",
    "\n",
    "from Mnist.load_data import load_local_mnist\n",
    "from sklearn import svm"
   ],
   "outputs": [],
   "metadata": {}
  },
  {
   "cell_type": "code",
   "execution_count": 2,
   "source": [
    "(X_train, y_train), (X_test, y_test) = load_local_mnist(normalize=True,one_hot=False)\n",
    "\n",
    "# 截取部分数据，否则程序运行可能超时\n",
    "X_train, y_train= X_train[:2000], y_train[:2000] \n",
    "X_test, y_test = X_test[:200],y_test[:200]\n",
    "\n",
    "'''系数说明\n",
    "    C: 软间隔的惩罚系数\n",
    "    kernel: 核函数\n",
    "    gamma: 核函数系数，只对rbf,poly,sigmod有效。默认为1/n_features\n",
    "    cache_size: 训练所需要的内存,以MB为单位,默认200M\n",
    "'''\n",
    "# 构造svm分类器实例\n",
    "model_linear = svm.SVC(C=1.0, kernel='linear') # 线性核\n",
    "model_poly = svm.SVC(C=1.0, kernel='poly', degree=3) # 多项式核\n",
    "model_rbf = svm.SVC(C=100.0, kernel='rbf', gamma=0.5) # 高斯核1\n",
    "model_rbf2 = svm.SVC(C=100.0, kernel='rbf', gamma=0.1) # 高斯核2\n",
    "models = [model_linear,model_poly,model_rbf,model_rbf2]\n",
    "titles = [  'Linear Kernel',\n",
    "        'Polynomial Kernel with Degree = 3',\n",
    "        'Gaussian Kernel with gamma = 0.5',\n",
    "        'Gaussian Kernel with gamma = 0.1']\n",
    "for model, i in zip(models, range(len(models))):\n",
    "    model.fit(X_train, y_train)\n",
    "    print(f\"{titles[i]}'s score: {model.score(X_test,y_test)}\")"
   ],
   "outputs": [
    {
     "output_type": "stream",
     "name": "stdout",
     "text": [
      "Linear Kernel's score: 0.955\n",
      "Polynomial Kernel with Degree = 3's score: 0.935\n",
      "Gaussian Kernel with gamma = 0.5's score: 0.195\n",
      "Gaussian Kernel with gamma = 0.1's score: 0.78\n"
     ]
    }
   ],
   "metadata": {}
  }
 ],
 "metadata": {
  "orig_nbformat": 4,
  "language_info": {
   "name": "python",
   "version": "3.7.11",
   "mimetype": "text/x-python",
   "codemirror_mode": {
    "name": "ipython",
    "version": 3
   },
   "pygments_lexer": "ipython3",
   "nbconvert_exporter": "python",
   "file_extension": ".py"
  },
  "kernelspec": {
   "name": "python3",
   "display_name": "Python 3.7.11 64-bit ('py37': conda)"
  },
  "interpreter": {
   "hash": "42c9bd6a7bb2602a627a03adc5d7029ff8a60f7e68b58a1beb81d0b4574fea3d"
  }
 },
 "nbformat": 4,
 "nbformat_minor": 2
}