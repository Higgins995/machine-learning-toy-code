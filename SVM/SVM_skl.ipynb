{
 "cells": [
  {
   "cell_type": "code",
   "execution_count": null,
   "source": [
    "import numpy as np\n",
    "import matplotlib.pyplot as plt\n",
    "from sklearn import svm\n",
    "import seaborn as sns\n",
    "sns.set()\n",
    "# 生成几个数据点\n",
    " \n",
    "data = np.array([\n",
    "    [0.1, 0.7],\n",
    "    [0.3, 0.6],\n",
    "    [0.4, 0.1],\n",
    "    [0.5, 0.4],\n",
    "    [0.8, 0.04],\n",
    "    [0.42, 0.6],\n",
    "    [0.9, 0.4],\n",
    "    [0.6, 0.5],\n",
    "    [0.7, 0.2],\n",
    "    [0.7, 0.67],\n",
    "    [0.27,0.8],\n",
    "    [0.5, 0.72]\n",
    "    ])\n",
    " \n",
    "target = [1] * 6 + [0] * 6\n",
    " \n",
    "x_line = np.linspace(0, 1, 100)\n",
    "y_line = 1 - x_line\n",
    "plt.scatter(data[:6, 0], data[:6, 1], marker='o', s=100, lw=3)\n",
    "plt.scatter(data[6:, 0], data[6:, 1], marker='x', s=100, lw=3)\n",
    "plt.plot(x_line, y_line)\n",
    " \n",
    "# 定义计算域、文字说明等\n",
    " \n",
    "C = 0.0001  # SVM regularization parameter, since Scikit-learn doesn't allow C=0\n",
    "# linear_svc = svm.SVC(kernel='linear', C=C).fit(data, target)\n",
    " \n",
    "# create a mesh to plot in\n",
    "h = 0.002\n",
    "x_min, x_max = data[:, 0].min() - 0.2, data[:, 0].max() + 0.2\n",
    "y_min, y_max = data[:, 1].min() - 0.2, data[:, 1].max() + 0.2\n",
    "xx, yy = np.meshgrid(np.arange(x_min, x_max, h),\n",
    "                     np.arange(y_min, y_max, h))\n",
    " \n",
    "# title for the plots\n",
    "titles = ['SVC with linear kernel',\n",
    "          'SVC with RBF kernel',\n",
    "          'SVC with polynomial (degree 3) kernel']\n",
    " \n",
    "# RBF Kernel\n",
    " \n",
    "plt.figure(figsize=(16, 15))\n",
    " \n",
    "for i, gamma in enumerate([1, 5, 15, 35, 45, 55]):\n",
    "    rbf_svc = svm.SVC(kernel='rbf', gamma=gamma, C=C).fit(data, target)\n",
    " \n",
    "    # ravel - flatten\n",
    "    # c_ - vstack\n",
    "    # #把后面两个压扁之后变成了x1和x2，然后进行判断，得到结果在压缩成一个矩形\n",
    "    Z = rbf_svc.predict(np.c_[xx.ravel(), yy.ravel()])\n",
    "    Z = Z.reshape(xx.shape)\n",
    " \n",
    "    plt.subplot(3, 2, i + 1)\n",
    "    plt.subplots_adjust(wspace=0.4, hspace=0.4)\n",
    "    plt.contourf(xx, yy, Z, cmap=plt.cm.ocean, alpha=0.6)\n",
    " \n",
    "    # Plot the training points\n",
    "    plt.scatter(data[:6, 0], data[:6, 1], marker='o', color='r', s=100, lw=3)\n",
    "    plt.scatter(data[6:, 0], data[6:, 1], marker='x', color='k', s=100, lw=3)\n",
    " \n",
    "    plt.title('RBF SVM with $\\gamma=$' + str(gamma))\n",
    " \n",
    "plt.show()"
   ],
   "outputs": [],
   "metadata": {}
  },
  {
   "cell_type": "code",
   "execution_count": null,
   "source": [
    "import sys\n",
    "from pathlib import Path\n",
    "curr_path = str(Path().absolute()) # 当前文件所在绝对路径\n",
    "parent_path = str(Path().absolute().parent) # 父路径\n",
    "sys.path.append(parent_path) # 添加路径到系统路径\n",
    "\n",
    "from Mnist.load_data import load_local_mnist\n",
    "from sklearn import svm"
   ],
   "outputs": [],
   "metadata": {}
  },
  {
   "cell_type": "code",
   "execution_count": 2,
   "source": [
    "(X_train, y_train), (X_test, y_test) = load_local_mnist(normalize=True,one_hot=False)\n",
    "\n",
    "# 截取部分数据，否则程序运行可能超时\n",
    "X_train, y_train= X_train[:2000], y_train[:2000] \n",
    "X_test, y_test = X_test[:200],y_test[:200]\n",
    "\n",
    "'''系数说明\n",
    "    C: 软间隔的惩罚系数\n",
    "    kernel: 核函数\n",
    "    gamma: 核函数系数，只对rbf,poly,sigmod有效。默认为1/n_features\n",
    "    cache_size: 训练所需要的内存,以MB为单位,默认200M\n",
    "'''\n",
    "# 构造svm分类器实例\n",
    "model_linear = svm.SVC(C=1.0, kernel='linear') # 线性核\n",
    "model_poly = svm.SVC(C=1.0, kernel='poly', degree=3) # 多项式核\n",
    "model_rbf = svm.SVC(C=100.0, kernel='rbf', gamma=0.5) # 高斯核1\n",
    "model_rbf2 = svm.SVC(C=100.0, kernel='rbf', gamma=0.1) # 高斯核2\n",
    "models = [model_linear,model_poly,model_rbf,model_rbf2]\n",
    "titles = [  'Linear Kernel',\n",
    "        'Polynomial Kernel with Degree = 3',\n",
    "        'Gaussian Kernel with gamma = 0.5',\n",
    "        'Gaussian Kernel with gamma = 0.1']\n",
    "for model, i in zip(models, range(len(models))):\n",
    "    model.fit(X_train, y_train)\n",
    "    print(f\"{titles[i]}'s score: {model.score(X_test,y_test)}\")"
   ],
   "outputs": [
    {
     "output_type": "stream",
     "name": "stdout",
     "text": [
      "Linear Kernel's score: 0.955\n",
      "Polynomial Kernel with Degree = 3's score: 0.935\n",
      "Gaussian Kernel with gamma = 0.5's score: 0.195\n",
      "Gaussian Kernel with gamma = 0.1's score: 0.78\n"
     ]
    }
   ],
   "metadata": {}
  }
 ],
 "metadata": {
  "orig_nbformat": 4,
  "language_info": {
   "name": "python",
   "version": "3.7.11",
   "mimetype": "text/x-python",
   "codemirror_mode": {
    "name": "ipython",
    "version": 3
   },
   "pygments_lexer": "ipython3",
   "nbconvert_exporter": "python",
   "file_extension": ".py"
  },
  "kernelspec": {
   "name": "python3",
   "display_name": "Python 3.7.11 64-bit ('py37': conda)"
  },
  "interpreter": {
   "hash": "42c9bd6a7bb2602a627a03adc5d7029ff8a60f7e68b58a1beb81d0b4574fea3d"
  }
 },
 "nbformat": 4,
 "nbformat_minor": 2
}