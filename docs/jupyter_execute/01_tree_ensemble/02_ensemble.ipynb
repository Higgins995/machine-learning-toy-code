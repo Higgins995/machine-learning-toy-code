{
 "cells": [
  {
   "cell_type": "markdown",
   "id": "fbb1766c",
   "metadata": {},
   "source": [
    "# Part B: 集成模式\n",
    "\n",
    "## 1. 为何集成\n",
    "\n",
    "## 2. bagging与boosting\n",
    "\n",
    "## 3. stacking方法\n",
    "\n",
    "## 4. 两种并行集成的树模型\n",
    "\n",
    "## 代码实践\n",
    "\n",
    "## 算法实现\n",
    "\n",
    "## 知识回顾"
   ]
  }
 ],
 "metadata": {
  "jupytext": {
   "text_representation": {
    "format_name": "myst"
   }
  },
  "kernelspec": {
   "display_name": "Python 3",
   "name": "python3"
  },
  "language_info": {
   "codemirror_mode": {
    "name": "ipython",
    "version": 3
   },
   "file_extension": ".py",
   "mimetype": "text/x-python",
   "name": "python",
   "nbconvert_exporter": "python",
   "pygments_lexer": "ipython3",
   "version": "3.8.10"
  },
  "source_map": [
   8
  ]
 },
 "nbformat": 4,
 "nbformat_minor": 5
}